{
 "cells": [
  {
   "cell_type": "code",
   "execution_count": 1,
   "id": "532c16d6",
   "metadata": {},
   "outputs": [],
   "source": [
    "import pandas as pd"
   ]
  },
  {
   "cell_type": "code",
   "execution_count": null,
   "id": "d630323d",
   "metadata": {},
   "outputs": [],
   "source": []
  },
  {
   "cell_type": "code",
   "execution_count": 2,
   "id": "1b4ddad1",
   "metadata": {},
   "outputs": [],
   "source": [
    "df=pd.read_csv(\".\\Agitation.csv\")"
   ]
  },
  {
   "cell_type": "code",
   "execution_count": 3,
   "id": "85740e27",
   "metadata": {},
   "outputs": [
    {
     "data": {
      "text/html": [
       "<div>\n",
       "<style scoped>\n",
       "    .dataframe tbody tr th:only-of-type {\n",
       "        vertical-align: middle;\n",
       "    }\n",
       "\n",
       "    .dataframe tbody tr th {\n",
       "        vertical-align: top;\n",
       "    }\n",
       "\n",
       "    .dataframe thead th {\n",
       "        text-align: right;\n",
       "    }\n",
       "</style>\n",
       "<table border=\"1\" class=\"dataframe\">\n",
       "  <thead>\n",
       "    <tr style=\"text-align: right;\">\n",
       "      <th></th>\n",
       "      <th>timestamp (ET)</th>\n",
       "      <th>agitimestamp (ET)</th>\n",
       "      <th>Location</th>\n",
       "      <th>level</th>\n",
       "      <th>Observation</th>\n",
       "      <th>Behaviour</th>\n",
       "    </tr>\n",
       "  </thead>\n",
       "  <tbody>\n",
       "    <tr>\n",
       "      <th>0</th>\n",
       "      <td>12/10/2016 21:02</td>\n",
       "      <td>12/10/2016 21:00</td>\n",
       "      <td>Kitchen</td>\n",
       "      <td>5</td>\n",
       "      <td>Withdrawn</td>\n",
       "      <td>Normal</td>\n",
       "    </tr>\n",
       "    <tr>\n",
       "      <th>1</th>\n",
       "      <td>12/15/2016 3:22</td>\n",
       "      <td>12/15/2016 3:21</td>\n",
       "      <td>Kitchen</td>\n",
       "      <td>3</td>\n",
       "      <td>Vocal1, Withdrawn</td>\n",
       "      <td>Normal</td>\n",
       "    </tr>\n",
       "    <tr>\n",
       "      <th>2</th>\n",
       "      <td>12/15/2016 19:14</td>\n",
       "      <td>12/16/2016 2:20</td>\n",
       "      <td>Other</td>\n",
       "      <td>3</td>\n",
       "      <td>Withdrawn</td>\n",
       "      <td>Normal</td>\n",
       "    </tr>\n",
       "    <tr>\n",
       "      <th>3</th>\n",
       "      <td>12/19/2016 1:57</td>\n",
       "      <td>12/19/2016 1:55</td>\n",
       "      <td>Other</td>\n",
       "      <td>4</td>\n",
       "      <td>Withdrawn</td>\n",
       "      <td>Normal</td>\n",
       "    </tr>\n",
       "    <tr>\n",
       "      <th>4</th>\n",
       "      <td>12/28/2016 20:36</td>\n",
       "      <td>12/28/2016 19:00</td>\n",
       "      <td>Other</td>\n",
       "      <td>4</td>\n",
       "      <td>Vocal2, Withdrawn</td>\n",
       "      <td>Normal</td>\n",
       "    </tr>\n",
       "  </tbody>\n",
       "</table>\n",
       "</div>"
      ],
      "text/plain": [
       "     timestamp (ET) agitimestamp (ET) Location  level        Observation  \\\n",
       "0  12/10/2016 21:02  12/10/2016 21:00  Kitchen      5          Withdrawn   \n",
       "1   12/15/2016 3:22   12/15/2016 3:21  Kitchen      3  Vocal1, Withdrawn   \n",
       "2  12/15/2016 19:14   12/16/2016 2:20    Other      3          Withdrawn   \n",
       "3   12/19/2016 1:57   12/19/2016 1:55    Other      4          Withdrawn   \n",
       "4  12/28/2016 20:36  12/28/2016 19:00    Other      4  Vocal2, Withdrawn   \n",
       "\n",
       "  Behaviour  \n",
       "0    Normal  \n",
       "1    Normal  \n",
       "2    Normal  \n",
       "3    Normal  \n",
       "4    Normal  "
      ]
     },
     "execution_count": 3,
     "metadata": {},
     "output_type": "execute_result"
    }
   ],
   "source": [
    "df.head()"
   ]
  },
  {
   "cell_type": "code",
   "execution_count": 4,
   "id": "d6c22022",
   "metadata": {},
   "outputs": [],
   "source": [
    "df['Behaviour'] = df['Behaviour'].map({\"Normal\" : 1,\n",
    "                                     \"Agitation\" : 0})"
   ]
  },
  {
   "cell_type": "code",
   "execution_count": 5,
   "id": "d64e2f2d",
   "metadata": {},
   "outputs": [
    {
     "data": {
      "text/html": [
       "<div>\n",
       "<style scoped>\n",
       "    .dataframe tbody tr th:only-of-type {\n",
       "        vertical-align: middle;\n",
       "    }\n",
       "\n",
       "    .dataframe tbody tr th {\n",
       "        vertical-align: top;\n",
       "    }\n",
       "\n",
       "    .dataframe thead th {\n",
       "        text-align: right;\n",
       "    }\n",
       "</style>\n",
       "<table border=\"1\" class=\"dataframe\">\n",
       "  <thead>\n",
       "    <tr style=\"text-align: right;\">\n",
       "      <th></th>\n",
       "      <th>timestamp (ET)</th>\n",
       "      <th>agitimestamp (ET)</th>\n",
       "      <th>Location</th>\n",
       "      <th>level</th>\n",
       "      <th>Observation</th>\n",
       "      <th>Behaviour</th>\n",
       "    </tr>\n",
       "  </thead>\n",
       "  <tbody>\n",
       "    <tr>\n",
       "      <th>0</th>\n",
       "      <td>12/10/2016 21:02</td>\n",
       "      <td>12/10/2016 21:00</td>\n",
       "      <td>Kitchen</td>\n",
       "      <td>5</td>\n",
       "      <td>Withdrawn</td>\n",
       "      <td>1</td>\n",
       "    </tr>\n",
       "    <tr>\n",
       "      <th>1</th>\n",
       "      <td>12/15/2016 3:22</td>\n",
       "      <td>12/15/2016 3:21</td>\n",
       "      <td>Kitchen</td>\n",
       "      <td>3</td>\n",
       "      <td>Vocal1, Withdrawn</td>\n",
       "      <td>1</td>\n",
       "    </tr>\n",
       "    <tr>\n",
       "      <th>2</th>\n",
       "      <td>12/15/2016 19:14</td>\n",
       "      <td>12/16/2016 2:20</td>\n",
       "      <td>Other</td>\n",
       "      <td>3</td>\n",
       "      <td>Withdrawn</td>\n",
       "      <td>1</td>\n",
       "    </tr>\n",
       "    <tr>\n",
       "      <th>3</th>\n",
       "      <td>12/19/2016 1:57</td>\n",
       "      <td>12/19/2016 1:55</td>\n",
       "      <td>Other</td>\n",
       "      <td>4</td>\n",
       "      <td>Withdrawn</td>\n",
       "      <td>1</td>\n",
       "    </tr>\n",
       "    <tr>\n",
       "      <th>4</th>\n",
       "      <td>12/28/2016 20:36</td>\n",
       "      <td>12/28/2016 19:00</td>\n",
       "      <td>Other</td>\n",
       "      <td>4</td>\n",
       "      <td>Vocal2, Withdrawn</td>\n",
       "      <td>1</td>\n",
       "    </tr>\n",
       "  </tbody>\n",
       "</table>\n",
       "</div>"
      ],
      "text/plain": [
       "     timestamp (ET) agitimestamp (ET) Location  level        Observation  \\\n",
       "0  12/10/2016 21:02  12/10/2016 21:00  Kitchen      5          Withdrawn   \n",
       "1   12/15/2016 3:22   12/15/2016 3:21  Kitchen      3  Vocal1, Withdrawn   \n",
       "2  12/15/2016 19:14   12/16/2016 2:20    Other      3          Withdrawn   \n",
       "3   12/19/2016 1:57   12/19/2016 1:55    Other      4          Withdrawn   \n",
       "4  12/28/2016 20:36  12/28/2016 19:00    Other      4  Vocal2, Withdrawn   \n",
       "\n",
       "   Behaviour  \n",
       "0          1  \n",
       "1          1  \n",
       "2          1  \n",
       "3          1  \n",
       "4          1  "
      ]
     },
     "execution_count": 5,
     "metadata": {},
     "output_type": "execute_result"
    }
   ],
   "source": [
    "df.head()"
   ]
  },
  {
   "cell_type": "code",
   "execution_count": 6,
   "id": "1f80520f",
   "metadata": {},
   "outputs": [],
   "source": [
    "X=df.drop('Behaviour',axis=1)"
   ]
  },
  {
   "cell_type": "code",
   "execution_count": 7,
   "id": "9cd1216e",
   "metadata": {},
   "outputs": [],
   "source": [
    "y=df['Behaviour']"
   ]
  },
  {
   "cell_type": "code",
   "execution_count": 8,
   "id": "ee3fa9ce",
   "metadata": {},
   "outputs": [
    {
     "data": {
      "text/plain": [
       "0      1\n",
       "1      1\n",
       "2      1\n",
       "3      1\n",
       "4      1\n",
       "      ..\n",
       "307    1\n",
       "308    1\n",
       "309    1\n",
       "310    1\n",
       "311    1\n",
       "Name: Behaviour, Length: 312, dtype: int64"
      ]
     },
     "execution_count": 8,
     "metadata": {},
     "output_type": "execute_result"
    }
   ],
   "source": [
    "y"
   ]
  },
  {
   "cell_type": "code",
   "execution_count": 9,
   "id": "6a95d4f8",
   "metadata": {},
   "outputs": [
    {
     "data": {
      "text/plain": [
       "1    259\n",
       "0     53\n",
       "Name: Behaviour, dtype: int64"
      ]
     },
     "execution_count": 9,
     "metadata": {},
     "output_type": "execute_result"
    }
   ],
   "source": [
    "y.value_counts()"
   ]
  },
  {
   "cell_type": "code",
   "execution_count": 10,
   "id": "ea1a007a",
   "metadata": {},
   "outputs": [
    {
     "data": {
      "text/plain": [
       "(312, 5)"
      ]
     },
     "execution_count": 10,
     "metadata": {},
     "output_type": "execute_result"
    }
   ],
   "source": [
    "X.shape\n"
   ]
  },
  {
   "cell_type": "code",
   "execution_count": 11,
   "id": "7d291a2a",
   "metadata": {},
   "outputs": [
    {
     "data": {
      "text/plain": [
       "(312,)"
      ]
     },
     "execution_count": 11,
     "metadata": {},
     "output_type": "execute_result"
    }
   ],
   "source": [
    "y.shape"
   ]
  },
  {
   "cell_type": "code",
   "execution_count": 12,
   "id": "9849ce96",
   "metadata": {},
   "outputs": [],
   "source": [
    "import tensorflow as tf"
   ]
  },
  {
   "cell_type": "code",
   "execution_count": 13,
   "id": "80c3dd69",
   "metadata": {},
   "outputs": [
    {
     "data": {
      "text/plain": [
       "'2.9.1'"
      ]
     },
     "execution_count": 13,
     "metadata": {},
     "output_type": "execute_result"
    }
   ],
   "source": [
    "tf.__version__"
   ]
  },
  {
   "cell_type": "code",
   "execution_count": null,
   "id": "cfea1f8c",
   "metadata": {},
   "outputs": [],
   "source": []
  },
  {
   "cell_type": "code",
   "execution_count": 14,
   "id": "e1f8392d",
   "metadata": {},
   "outputs": [],
   "source": [
    "from tensorflow.keras.layers import Embedding\n",
    "from tensorflow.keras.preprocessing.sequence import pad_sequences\n",
    "from tensorflow.keras.models import Sequential\n",
    "from tensorflow.keras.preprocessing.text import one_hot\n",
    "from tensorflow.keras.layers import  LSTM\n",
    "from tensorflow.keras.layers import Dense\n",
    "from tensorflow.keras.layers import Bidirectional,GRU,Flatten,Dropout,Dense\n",
    "from sklearn.metrics import classification_report, confusion_matrix\n",
    "from tensorflow import keras\n"
   ]
  },
  {
   "cell_type": "code",
   "execution_count": 15,
   "id": "cbbe419c",
   "metadata": {},
   "outputs": [
    {
     "name": "stdout",
     "output_type": "stream",
     "text": [
      "Requirement already satisfied: nlpaug in c:\\users\\rejee\\anaconda3\\lib\\site-packages (1.1.11)\n",
      "Requirement already satisfied: numpy>=1.16.2 in c:\\users\\rejee\\anaconda3\\lib\\site-packages (from nlpaug) (1.20.3)\n",
      "Requirement already satisfied: pandas>=1.2.0 in c:\\users\\rejee\\anaconda3\\lib\\site-packages (from nlpaug) (1.5.2)\n",
      "Requirement already satisfied: gdown>=4.0.0 in c:\\users\\rejee\\anaconda3\\lib\\site-packages (from nlpaug) (4.6.0)\n",
      "Requirement already satisfied: requests>=2.22.0 in c:\\users\\rejee\\anaconda3\\lib\\site-packages (from nlpaug) (2.26.0)\n",
      "Requirement already satisfied: six in c:\\users\\rejee\\anaconda3\\lib\\site-packages (from gdown>=4.0.0->nlpaug) (1.16.0)\n",
      "Requirement already satisfied: tqdm in c:\\users\\rejee\\anaconda3\\lib\\site-packages (from gdown>=4.0.0->nlpaug) (4.62.3)\n",
      "Requirement already satisfied: filelock in c:\\users\\rejee\\anaconda3\\lib\\site-packages (from gdown>=4.0.0->nlpaug) (3.3.1)\n",
      "Requirement already satisfied: beautifulsoup4 in c:\\users\\rejee\\anaconda3\\lib\\site-packages (from gdown>=4.0.0->nlpaug) (4.11.1)\n",
      "Requirement already satisfied: pytz>=2020.1 in c:\\users\\rejee\\anaconda3\\lib\\site-packages (from pandas>=1.2.0->nlpaug) (2021.3)\n",
      "Requirement already satisfied: python-dateutil>=2.8.1 in c:\\users\\rejee\\anaconda3\\lib\\site-packages (from pandas>=1.2.0->nlpaug) (2.8.2)\n",
      "Requirement already satisfied: idna<4,>=2.5 in c:\\users\\rejee\\anaconda3\\lib\\site-packages (from requests>=2.22.0->nlpaug) (3.2)\n",
      "Requirement already satisfied: certifi>=2017.4.17 in c:\\users\\rejee\\anaconda3\\lib\\site-packages (from requests>=2.22.0->nlpaug) (2022.9.24)\n",
      "Requirement already satisfied: charset-normalizer~=2.0.0 in c:\\users\\rejee\\anaconda3\\lib\\site-packages (from requests>=2.22.0->nlpaug) (2.0.4)\n",
      "Requirement already satisfied: urllib3<1.27,>=1.21.1 in c:\\users\\rejee\\anaconda3\\lib\\site-packages (from requests>=2.22.0->nlpaug) (1.26.7)\n",
      "Requirement already satisfied: soupsieve>1.2 in c:\\users\\rejee\\anaconda3\\lib\\site-packages (from beautifulsoup4->gdown>=4.0.0->nlpaug) (2.2.1)\n",
      "Requirement already satisfied: PySocks!=1.5.7,>=1.5.6 in c:\\users\\rejee\\anaconda3\\lib\\site-packages (from requests>=2.22.0->nlpaug) (1.7.1)\n",
      "Requirement already satisfied: colorama in c:\\users\\rejee\\anaconda3\\lib\\site-packages (from tqdm->gdown>=4.0.0->nlpaug) (0.4.4)\n"
     ]
    }
   ],
   "source": [
    "!pip install nlpaug"
   ]
  },
  {
   "cell_type": "code",
   "execution_count": 16,
   "id": "ad6611ad",
   "metadata": {},
   "outputs": [],
   "source": [
    "from nlpaug.util import Action\n",
    "import nlpaug.augmenter.word as word_augmenter"
   ]
  },
  {
   "cell_type": "code",
   "execution_count": 17,
   "id": "c18dbc4c",
   "metadata": {},
   "outputs": [],
   "source": [
    "voc_size=5000"
   ]
  },
  {
   "cell_type": "code",
   "execution_count": 18,
   "id": "60710aa8",
   "metadata": {},
   "outputs": [],
   "source": [
    "messages=X.copy()"
   ]
  },
  {
   "cell_type": "code",
   "execution_count": 19,
   "id": "f93de65c",
   "metadata": {},
   "outputs": [
    {
     "data": {
      "text/plain": [
       "'Vocal1, Withdrawn'"
      ]
     },
     "execution_count": 19,
     "metadata": {},
     "output_type": "execute_result"
    }
   ],
   "source": [
    "messages['Observation'][1]"
   ]
  },
  {
   "cell_type": "code",
   "execution_count": 20,
   "id": "3bfafe8c",
   "metadata": {},
   "outputs": [],
   "source": [
    "messages.reset_index(inplace=True)"
   ]
  },
  {
   "cell_type": "code",
   "execution_count": 21,
   "id": "785d15e8",
   "metadata": {},
   "outputs": [],
   "source": [
    "import nltk\n",
    "import re\n",
    "from nltk.corpus import stopwords"
   ]
  },
  {
   "cell_type": "code",
   "execution_count": 22,
   "id": "a715142f",
   "metadata": {},
   "outputs": [
    {
     "name": "stderr",
     "output_type": "stream",
     "text": [
      "[nltk_data] Downloading package stopwords to\n",
      "[nltk_data]     C:\\Users\\rejee\\AppData\\Roaming\\nltk_data...\n",
      "[nltk_data]   Package stopwords is already up-to-date!\n"
     ]
    },
    {
     "data": {
      "text/plain": [
       "True"
      ]
     },
     "execution_count": 22,
     "metadata": {},
     "output_type": "execute_result"
    }
   ],
   "source": [
    "nltk.download('stopwords')"
   ]
  },
  {
   "cell_type": "code",
   "execution_count": 23,
   "id": "e6894ff5",
   "metadata": {},
   "outputs": [],
   "source": [
    "# data pre processing\n",
    "from nltk.stem.porter import PorterStemmer"
   ]
  },
  {
   "cell_type": "code",
   "execution_count": 24,
   "id": "894a0e10",
   "metadata": {},
   "outputs": [
    {
     "name": "stdout",
     "output_type": "stream",
     "text": [
      "0\n",
      "1\n",
      "2\n",
      "3\n",
      "4\n",
      "5\n",
      "6\n",
      "7\n",
      "8\n",
      "9\n",
      "10\n",
      "11\n",
      "12\n",
      "13\n",
      "14\n",
      "15\n",
      "16\n",
      "17\n",
      "18\n",
      "19\n",
      "20\n",
      "21\n",
      "22\n",
      "23\n",
      "24\n",
      "25\n",
      "26\n",
      "27\n",
      "28\n",
      "29\n",
      "30\n",
      "31\n",
      "32\n",
      "33\n",
      "34\n",
      "35\n",
      "36\n",
      "37\n",
      "38\n",
      "39\n",
      "40\n",
      "41\n",
      "42\n",
      "43\n",
      "44\n",
      "45\n",
      "46\n",
      "47\n",
      "48\n",
      "49\n",
      "50\n",
      "51\n",
      "52\n",
      "53\n",
      "54\n",
      "55\n",
      "56\n",
      "57\n",
      "58\n",
      "59\n",
      "60\n",
      "61\n",
      "62\n",
      "63\n",
      "64\n",
      "65\n",
      "66\n",
      "67\n",
      "68\n",
      "69\n",
      "70\n",
      "71\n",
      "72\n",
      "73\n",
      "74\n",
      "75\n",
      "76\n",
      "77\n",
      "78\n",
      "79\n",
      "80\n",
      "81\n",
      "82\n",
      "83\n",
      "84\n",
      "85\n",
      "86\n",
      "87\n",
      "88\n",
      "89\n",
      "90\n",
      "91\n",
      "92\n",
      "93\n",
      "94\n",
      "95\n",
      "96\n",
      "97\n",
      "98\n",
      "99\n",
      "100\n",
      "101\n",
      "102\n",
      "103\n",
      "104\n",
      "105\n",
      "106\n",
      "107\n",
      "108\n",
      "109\n",
      "110\n",
      "111\n",
      "112\n",
      "113\n",
      "114\n",
      "115\n",
      "116\n",
      "117\n",
      "118\n",
      "119\n",
      "120\n",
      "121\n",
      "122\n",
      "123\n",
      "124\n",
      "125\n",
      "126\n",
      "127\n",
      "128\n",
      "129\n",
      "130\n",
      "131\n",
      "132\n",
      "133\n",
      "134\n",
      "135\n",
      "136\n",
      "137\n",
      "138\n",
      "139\n",
      "140\n",
      "141\n",
      "142\n",
      "143\n",
      "144\n",
      "145\n",
      "146\n",
      "147\n",
      "148\n",
      "149\n",
      "150\n",
      "151\n",
      "152\n",
      "153\n",
      "154\n",
      "155\n",
      "156\n",
      "157\n",
      "158\n",
      "159\n",
      "160\n",
      "161\n",
      "162\n",
      "163\n",
      "164\n",
      "165\n",
      "166\n",
      "167\n",
      "168\n",
      "169\n",
      "170\n",
      "171\n",
      "172\n",
      "173\n",
      "174\n",
      "175\n",
      "176\n",
      "177\n",
      "178\n",
      "179\n",
      "180\n",
      "181\n",
      "182\n",
      "183\n",
      "184\n",
      "185\n",
      "186\n",
      "187\n",
      "188\n",
      "189\n",
      "190\n",
      "191\n",
      "192\n",
      "193\n",
      "194\n",
      "195\n",
      "196\n",
      "197\n",
      "198\n",
      "199\n",
      "200\n",
      "201\n",
      "202\n",
      "203\n",
      "204\n",
      "205\n",
      "206\n",
      "207\n",
      "208\n",
      "209\n",
      "210\n",
      "211\n",
      "212\n",
      "213\n",
      "214\n",
      "215\n",
      "216\n",
      "217\n",
      "218\n",
      "219\n",
      "220\n",
      "221\n",
      "222\n",
      "223\n",
      "224\n",
      "225\n",
      "226\n",
      "227\n",
      "228\n",
      "229\n",
      "230\n",
      "231\n",
      "232\n",
      "233\n",
      "234\n",
      "235\n",
      "236\n",
      "237\n",
      "238\n",
      "239\n",
      "240\n",
      "241\n",
      "242\n",
      "243\n",
      "244\n",
      "245\n",
      "246\n",
      "247\n",
      "248\n",
      "249\n",
      "250\n",
      "251\n",
      "252\n",
      "253\n",
      "254\n",
      "255\n",
      "256\n",
      "257\n",
      "258\n",
      "259\n",
      "260\n",
      "261\n",
      "262\n",
      "263\n",
      "264\n",
      "265\n",
      "266\n",
      "267\n",
      "268\n",
      "269\n",
      "270\n",
      "271\n",
      "272\n",
      "273\n",
      "274\n",
      "275\n",
      "276\n",
      "277\n",
      "278\n",
      "279\n",
      "280\n",
      "281\n",
      "282\n",
      "283\n",
      "284\n",
      "285\n",
      "286\n",
      "287\n",
      "288\n",
      "289\n",
      "290\n",
      "291\n",
      "292\n",
      "293\n",
      "294\n",
      "295\n",
      "296\n",
      "297\n",
      "298\n",
      "299\n",
      "300\n",
      "301\n",
      "302\n",
      "303\n",
      "304\n",
      "305\n",
      "306\n",
      "307\n",
      "308\n",
      "309\n",
      "310\n",
      "311\n"
     ]
    }
   ],
   "source": [
    "ps=PorterStemmer()\n",
    "corpus = []\n",
    "for i in range(0,len(messages)):\n",
    "    print(i)\n",
    "    review=re.sub('[^a-zA-Z]','',messages['Observation'][i])\n",
    "    review=review.lower()\n",
    "    review=review.split()\n",
    "    review=[ps.stem(word) for word in review if not word in stopwords.words ('English')]\n",
    "    review=''.join(review)\n",
    "    corpus.append(review)"
   ]
  },
  {
   "cell_type": "code",
   "execution_count": 25,
   "id": "8ab56a2d",
   "metadata": {},
   "outputs": [
    {
     "data": {
      "text/plain": [
       "['withdrawn',\n",
       " 'vocalwithdrawn',\n",
       " 'withdrawn',\n",
       " 'withdrawn',\n",
       " 'vocalwithdrawn',\n",
       " 'withdrawn',\n",
       " 'communicationvocalwithdrawn',\n",
       " 'vocal',\n",
       " 'vocalvoc',\n",
       " 'repetitionvocalvoc',\n",
       " 'vocalvoc',\n",
       " 'vocal',\n",
       " 'vocal',\n",
       " 'vocalvoc',\n",
       " 'repetitionvocalvoc',\n",
       " 'withdrawn',\n",
       " 'repetitionvocalvoc',\n",
       " 'vocal',\n",
       " 'clothingcommunicationvocalvoc',\n",
       " 'vocalvoc',\n",
       " 'vocalvoc',\n",
       " 'vocalvoc',\n",
       " 'vocalvoc',\n",
       " 'vocalvoc',\n",
       " 'frustrationvoc',\n",
       " 'vocalvoc',\n",
       " 'communicationvoc',\n",
       " 'vocalvoc',\n",
       " 'communicationrepetitionvoc',\n",
       " 'communicationvocalvoc',\n",
       " 'repetit',\n",
       " 'repetit',\n",
       " 'commun',\n",
       " 'repetit',\n",
       " 'frustrat',\n",
       " 'withdrawn',\n",
       " 'frustrationwithdrawn',\n",
       " 'repetit',\n",
       " 'frustrationwithdrawn',\n",
       " 'frustrationwithdrawn',\n",
       " 'repetit',\n",
       " 'repetit',\n",
       " 'withdrawn',\n",
       " 'repetit',\n",
       " 'repetit',\n",
       " 'frustrat',\n",
       " 'repetit',\n",
       " 'ambulationfrustr',\n",
       " 'commun',\n",
       " 'communicationrepetit',\n",
       " 'repetit',\n",
       " 'repetit',\n",
       " 'frustrationwithdrawn',\n",
       " 'lost',\n",
       " 'ambulationfrustrationwithdrawn',\n",
       " 'frustrat',\n",
       " 'repetit',\n",
       " 'repetit',\n",
       " 'repetit',\n",
       " 'repetit',\n",
       " 'frustrationwithdrawn',\n",
       " 'repetit',\n",
       " 'repetit',\n",
       " 'repetit',\n",
       " 'frustrat',\n",
       " 'repetit',\n",
       " 'lost',\n",
       " 'frustrationlost',\n",
       " 'frustrationlostwithdrawn',\n",
       " 'frustrationwithdrawn',\n",
       " 'frustrationrepetit',\n",
       " 'ambulationfrustrationrepetit',\n",
       " 'ambulationfrustr',\n",
       " 'repetit',\n",
       " 'repetit',\n",
       " 'frustrationrepetit',\n",
       " 'repetit',\n",
       " 'repetit',\n",
       " 'repetit',\n",
       " 'frustrationwithdrawn',\n",
       " 'lost',\n",
       " 'vocalwithdrawn',\n",
       " 'vocalwithdrawn',\n",
       " 'repetitionvocalwithdrawn',\n",
       " 'vocalwithdrawn',\n",
       " 'vocalwithdrawn',\n",
       " 'withdrawn',\n",
       " 'clothingfrustrationvocalwithdrawn',\n",
       " 'ambulationfrustrationtouchingvocalwithdrawn',\n",
       " 'vocalvoc',\n",
       " 'ambulationcommunicationtouchingvocalwithdrawn',\n",
       " 'ambulationcommunicationfrustrationtouchingwithdrawn',\n",
       " 'ambulationclothingfrustrationvocalwithdrawn',\n",
       " 'ambulationfrustrationtouchingvocalwithdrawn',\n",
       " 'vocalwithdrawn',\n",
       " 'vocalwithdrawn',\n",
       " 'ambulationfrustrationvocalwithdrawn',\n",
       " 'clothinglostvoc',\n",
       " 'frustrationwithdrawn',\n",
       " 'clothingfrustrationvocalwithdrawn',\n",
       " 'clothingfrustrationtouch',\n",
       " 'communicationtouch',\n",
       " 'ambulationclothingfrustrationvocalwithdrawn',\n",
       " 'ambulationfrustrationtouchingvocalwithdrawn',\n",
       " 'ambulationfrustrationtouchingvocalwithdrawn',\n",
       " 'ambulationclothingfrustrationrepetitiontouchingvocalwithdrawn',\n",
       " 'ambulationclothingfrustrationtouchingvocalwithdrawn',\n",
       " 'vocal',\n",
       " 'frustrationrepetitionvocalvoc',\n",
       " 'clothingfrustrationtouch',\n",
       " 'vocal',\n",
       " 'vocalwithdrawn',\n",
       " 'vocal',\n",
       " 'repetitionvocalwithdrawn',\n",
       " 'vocalwithdrawn',\n",
       " 'repetit',\n",
       " 'repetit',\n",
       " 'repetit',\n",
       " 'commun',\n",
       " 'repetit',\n",
       " 'communicationrepetitionvocalwithdrawn',\n",
       " 'repetitionvoc',\n",
       " 'repetitionvoc',\n",
       " 'communicationrepetitionvocalwithdrawn',\n",
       " 'repetit',\n",
       " 'repetitionvoc',\n",
       " 'repetitionvoc',\n",
       " 'oralfixationrepetitionvocalwithdrawn',\n",
       " 'repetitionvoc',\n",
       " 'oralfixationrepetitionvocalwithdrawn',\n",
       " 'repetitionvoc',\n",
       " 'repetitionvocalwithdrawn',\n",
       " 'repetitionvoc',\n",
       " 'vocalwithdrawn',\n",
       " 'lostrepetitionvoc',\n",
       " 'communicationrepetitionvocalwithdrawn',\n",
       " 'repetitionvocalwithdrawn',\n",
       " 'repetitionvocalwithdrawn',\n",
       " 'repetit',\n",
       " 'repetitionvoc',\n",
       " 'repetitionvocalwithdrawn',\n",
       " 'repetitionvoc',\n",
       " 'communicationrepetitionvocalwithdrawn',\n",
       " 'repetit',\n",
       " 'repetitionvoc',\n",
       " 'repetitionvoc',\n",
       " 'cloth',\n",
       " 'repetit',\n",
       " 'repetit',\n",
       " 'communicationrepetitionvocalwithdrawn',\n",
       " 'commun',\n",
       " 'communicationrepetit',\n",
       " 'communicationrepetit',\n",
       " 'repetit',\n",
       " 'communicationwithdrawn',\n",
       " 'lostrepetitiontouchingvocalwithdrawn',\n",
       " 'repetit',\n",
       " 'oralfixationrepetitionvocalwithdrawn',\n",
       " 'communicationlostrepetitionvoc',\n",
       " 'communicationlostrepetitionvoc',\n",
       " 'lostrepetitionvoc',\n",
       " 'repetitionvoc',\n",
       " 'repetit',\n",
       " 'repetitionvoc',\n",
       " 'communicationrepetitionvocalwithdrawn',\n",
       " 'communicationrepetitionvoc',\n",
       " 'communicationrepetitionvocalwithdrawn',\n",
       " 'communicationrepetitionvoc',\n",
       " 'communicationrepetitionvoc',\n",
       " 'communicationlostrepetitionvoc',\n",
       " 'lost',\n",
       " 'communicationrepetitionvoc',\n",
       " 'communicationrepetitionvoc',\n",
       " 'communicationfrustrationrepetitionvoc',\n",
       " 'repetit',\n",
       " 'communicationrepetit',\n",
       " 'lostrepetitionvoc',\n",
       " 'frustrationrepetitionvoc',\n",
       " 'repetit',\n",
       " 'lostrepetitionvoc',\n",
       " 'lostrepetitionvoc',\n",
       " 'repetit',\n",
       " 'frustrationrepetitionvoc',\n",
       " 'repetit',\n",
       " 'repetit',\n",
       " 'communicationrepetitionvoc',\n",
       " 'repetit',\n",
       " 'lostrepetitionvoc',\n",
       " 'communicationrepetitionvoc',\n",
       " 'repetit',\n",
       " 'communicationrepetitionvoc',\n",
       " 'communicationrepetitionvoc',\n",
       " 'communicationvoc',\n",
       " 'communicationlostrepetitionvoc',\n",
       " 'communicationlostrepetitionvoc',\n",
       " 'communicationrepetitionvoc',\n",
       " 'communicationlostrepetit',\n",
       " 'communicationrepetit',\n",
       " 'communicationrepetitionvoc',\n",
       " 'communicationlost',\n",
       " 'repetit',\n",
       " 'repetit',\n",
       " 'repetit',\n",
       " 'communicationlost',\n",
       " 'lost',\n",
       " 'lost',\n",
       " 'communicationlost',\n",
       " 'communicationrepetitionvoc',\n",
       " 'communicationrepetitionvoc',\n",
       " 'communicationrepetitionvocalwithdrawn',\n",
       " 'communicationlostrepetitionvocalwithdrawn',\n",
       " 'repetit',\n",
       " 'repetit',\n",
       " 'repetit',\n",
       " 'communicationrepetitionvoc',\n",
       " 'communicationrepetitionvoc',\n",
       " 'repetit',\n",
       " 'communicationrepetitionvocalwithdrawn',\n",
       " 'communicationrepetitionvocalwithdrawn',\n",
       " 'communicationrepetitionvocalwithdrawn',\n",
       " 'communicationrepetitionvocalwithdrawn',\n",
       " 'repetit',\n",
       " 'communicationrepetitionvocalwithdrawn',\n",
       " 'communicationrepetitionvoc',\n",
       " 'repetit',\n",
       " 'communicationrepetitionvoc',\n",
       " 'communicationrepetitionvocalwithdrawn',\n",
       " 'communicationoralfixationrepetitionvocalwithdrawn',\n",
       " 'repetit',\n",
       " 'communicationrepetitionvocalwithdrawn',\n",
       " 'communicationrepetitionvoc',\n",
       " 'communicationrepetitionvoc',\n",
       " 'communicationrepetitionvocalwithdrawn',\n",
       " 'communicationrepetitionvoc',\n",
       " 'communicationrepetitionvoc',\n",
       " 'communicationrepetitionvoc',\n",
       " 'communicationrepetitionvocalwithdrawn',\n",
       " 'repetit',\n",
       " 'communicationrepetitionvocalwithdrawn',\n",
       " 'communicationrepetitionvoc',\n",
       " 'communicationrepetit',\n",
       " 'communicationrepetitionvoc',\n",
       " 'communicationlostrepetitionvoc',\n",
       " 'communicationvoc',\n",
       " 'commun',\n",
       " 'commun',\n",
       " 'repetit',\n",
       " 'communicationrepetitionvoc',\n",
       " 'commun',\n",
       " 'communicationrepetitionvocalwithdrawn',\n",
       " 'communicationvoc',\n",
       " 'communicationrepetitionvocalwithdrawn',\n",
       " 'communicationvoc',\n",
       " 'communicationrepetitionvocalwithdrawn',\n",
       " 'communicationrepetitionvocalwithdrawn',\n",
       " 'repetit',\n",
       " 'commun',\n",
       " 'communicationrepetitionvoc',\n",
       " 'communicationlostrepetitionvoc',\n",
       " 'communicationrepetitionvoc',\n",
       " 'communicationphysicalshadow',\n",
       " 'repetit',\n",
       " 'vocal',\n",
       " 'frustrat',\n",
       " 'vocal',\n",
       " 'withdrawn',\n",
       " 'repetit',\n",
       " 'frustrat',\n",
       " 'withdrawn',\n",
       " 'communicationfrustr',\n",
       " 'vocal',\n",
       " 'ambulationvoc',\n",
       " 'repetit',\n",
       " 'repetit',\n",
       " 'repetit',\n",
       " 'repetit',\n",
       " 'commun',\n",
       " 'repetit',\n",
       " 'repetit',\n",
       " 'vocal',\n",
       " 'repetit',\n",
       " 'repetit',\n",
       " 'repetit',\n",
       " 'repetit',\n",
       " 'repetit',\n",
       " 'repetit',\n",
       " 'repetit',\n",
       " 'repetit',\n",
       " 'repetit',\n",
       " 'repetit',\n",
       " 'repetit',\n",
       " 'repetit',\n",
       " 'repetit',\n",
       " 'repetit',\n",
       " 'repetit',\n",
       " 'repetit',\n",
       " 'repetit',\n",
       " 'repetit',\n",
       " 'communicationvocalvoc',\n",
       " 'repetit',\n",
       " 'repetit',\n",
       " 'repetit',\n",
       " 'repetit',\n",
       " 'repetit',\n",
       " 'repetit',\n",
       " 'repetit',\n",
       " 'repetit',\n",
       " 'repetit',\n",
       " 'repetit',\n",
       " 'repetit',\n",
       " 'repetit',\n",
       " 'repetit']"
      ]
     },
     "execution_count": 25,
     "metadata": {},
     "output_type": "execute_result"
    }
   ],
   "source": [
    "corpus"
   ]
  },
  {
   "cell_type": "code",
   "execution_count": 26,
   "id": "eed7bd5d",
   "metadata": {},
   "outputs": [
    {
     "data": {
      "text/plain": [
       "[[3869],\n",
       " [3078],\n",
       " [3869],\n",
       " [3869],\n",
       " [3078],\n",
       " [3869],\n",
       " [2475],\n",
       " [3411],\n",
       " [4413],\n",
       " [2215],\n",
       " [4413],\n",
       " [3411],\n",
       " [3411],\n",
       " [4413],\n",
       " [2215],\n",
       " [3869],\n",
       " [2215],\n",
       " [3411],\n",
       " [150],\n",
       " [4413],\n",
       " [4413],\n",
       " [4413],\n",
       " [4413],\n",
       " [4413],\n",
       " [1043],\n",
       " [4413],\n",
       " [4556],\n",
       " [4413],\n",
       " [399],\n",
       " [266],\n",
       " [4929],\n",
       " [4929],\n",
       " [4549],\n",
       " [4929],\n",
       " [1251],\n",
       " [3869],\n",
       " [882],\n",
       " [4929],\n",
       " [882],\n",
       " [882],\n",
       " [4929],\n",
       " [4929],\n",
       " [3869],\n",
       " [4929],\n",
       " [4929],\n",
       " [1251],\n",
       " [4929],\n",
       " [628],\n",
       " [4549],\n",
       " [4705],\n",
       " [4929],\n",
       " [4929],\n",
       " [882],\n",
       " [4942],\n",
       " [4088],\n",
       " [1251],\n",
       " [4929],\n",
       " [4929],\n",
       " [4929],\n",
       " [4929],\n",
       " [882],\n",
       " [4929],\n",
       " [4929],\n",
       " [4929],\n",
       " [1251],\n",
       " [4929],\n",
       " [4942],\n",
       " [3372],\n",
       " [4577],\n",
       " [882],\n",
       " [4755],\n",
       " [2104],\n",
       " [628],\n",
       " [4929],\n",
       " [4929],\n",
       " [4755],\n",
       " [4929],\n",
       " [4929],\n",
       " [4929],\n",
       " [882],\n",
       " [4942],\n",
       " [3078],\n",
       " [3078],\n",
       " [4892],\n",
       " [3078],\n",
       " [3078],\n",
       " [3869],\n",
       " [3303],\n",
       " [3779],\n",
       " [4413],\n",
       " [1533],\n",
       " [2244],\n",
       " [1288],\n",
       " [3779],\n",
       " [3078],\n",
       " [3078],\n",
       " [391],\n",
       " [2842],\n",
       " [882],\n",
       " [3303],\n",
       " [45],\n",
       " [4507],\n",
       " [1288],\n",
       " [3779],\n",
       " [3779],\n",
       " [3563],\n",
       " [3678],\n",
       " [3411],\n",
       " [705],\n",
       " [45],\n",
       " [3411],\n",
       " [3078],\n",
       " [3411],\n",
       " [4892],\n",
       " [3078],\n",
       " [4929],\n",
       " [4929],\n",
       " [4929],\n",
       " [4549],\n",
       " [4929],\n",
       " [568],\n",
       " [1910],\n",
       " [1910],\n",
       " [568],\n",
       " [4929],\n",
       " [1910],\n",
       " [1910],\n",
       " [1806],\n",
       " [1910],\n",
       " [1806],\n",
       " [1910],\n",
       " [4892],\n",
       " [1910],\n",
       " [3078],\n",
       " [1324],\n",
       " [568],\n",
       " [4892],\n",
       " [4892],\n",
       " [4929],\n",
       " [1910],\n",
       " [4892],\n",
       " [1910],\n",
       " [568],\n",
       " [4929],\n",
       " [1910],\n",
       " [1910],\n",
       " [4485],\n",
       " [4929],\n",
       " [4929],\n",
       " [568],\n",
       " [4549],\n",
       " [4705],\n",
       " [4705],\n",
       " [4929],\n",
       " [441],\n",
       " [648],\n",
       " [4929],\n",
       " [1806],\n",
       " [894],\n",
       " [894],\n",
       " [1324],\n",
       " [1910],\n",
       " [4929],\n",
       " [1910],\n",
       " [568],\n",
       " [399],\n",
       " [568],\n",
       " [399],\n",
       " [399],\n",
       " [894],\n",
       " [4942],\n",
       " [399],\n",
       " [399],\n",
       " [207],\n",
       " [4929],\n",
       " [4705],\n",
       " [1324],\n",
       " [808],\n",
       " [4929],\n",
       " [1324],\n",
       " [1324],\n",
       " [4929],\n",
       " [808],\n",
       " [4929],\n",
       " [4929],\n",
       " [399],\n",
       " [4929],\n",
       " [1324],\n",
       " [399],\n",
       " [4929],\n",
       " [399],\n",
       " [399],\n",
       " [4556],\n",
       " [894],\n",
       " [894],\n",
       " [399],\n",
       " [2722],\n",
       " [4705],\n",
       " [399],\n",
       " [3440],\n",
       " [4929],\n",
       " [4929],\n",
       " [4929],\n",
       " [3440],\n",
       " [4942],\n",
       " [4942],\n",
       " [3440],\n",
       " [399],\n",
       " [399],\n",
       " [568],\n",
       " [2915],\n",
       " [4929],\n",
       " [4929],\n",
       " [4929],\n",
       " [399],\n",
       " [399],\n",
       " [4929],\n",
       " [568],\n",
       " [568],\n",
       " [568],\n",
       " [568],\n",
       " [4929],\n",
       " [568],\n",
       " [399],\n",
       " [4929],\n",
       " [399],\n",
       " [568],\n",
       " [2326],\n",
       " [4929],\n",
       " [568],\n",
       " [399],\n",
       " [399],\n",
       " [568],\n",
       " [399],\n",
       " [399],\n",
       " [399],\n",
       " [568],\n",
       " [4929],\n",
       " [568],\n",
       " [399],\n",
       " [4705],\n",
       " [399],\n",
       " [894],\n",
       " [4556],\n",
       " [4549],\n",
       " [4549],\n",
       " [4929],\n",
       " [399],\n",
       " [4549],\n",
       " [568],\n",
       " [4556],\n",
       " [568],\n",
       " [4556],\n",
       " [568],\n",
       " [568],\n",
       " [4929],\n",
       " [4549],\n",
       " [399],\n",
       " [894],\n",
       " [399],\n",
       " [4555],\n",
       " [4929],\n",
       " [3411],\n",
       " [1251],\n",
       " [3411],\n",
       " [3869],\n",
       " [4929],\n",
       " [1251],\n",
       " [3869],\n",
       " [108],\n",
       " [3411],\n",
       " [322],\n",
       " [4929],\n",
       " [4929],\n",
       " [4929],\n",
       " [4929],\n",
       " [4549],\n",
       " [4929],\n",
       " [4929],\n",
       " [3411],\n",
       " [4929],\n",
       " [4929],\n",
       " [4929],\n",
       " [4929],\n",
       " [4929],\n",
       " [4929],\n",
       " [4929],\n",
       " [4929],\n",
       " [4929],\n",
       " [4929],\n",
       " [4929],\n",
       " [4929],\n",
       " [4929],\n",
       " [4929],\n",
       " [4929],\n",
       " [4929],\n",
       " [4929],\n",
       " [4929],\n",
       " [266],\n",
       " [4929],\n",
       " [4929],\n",
       " [4929],\n",
       " [4929],\n",
       " [4929],\n",
       " [4929],\n",
       " [4929],\n",
       " [4929],\n",
       " [4929],\n",
       " [4929],\n",
       " [4929],\n",
       " [4929],\n",
       " [4929]]"
      ]
     },
     "execution_count": 26,
     "metadata": {},
     "output_type": "execute_result"
    }
   ],
   "source": [
    "onehot_repr=[one_hot(words,voc_size,) for words in corpus]\n",
    "onehot_repr"
   ]
  },
  {
   "cell_type": "code",
   "execution_count": 27,
   "id": "ebf73b72",
   "metadata": {},
   "outputs": [
    {
     "name": "stdout",
     "output_type": "stream",
     "text": [
      "[[   0    0    0 ...    0    0 3869]\n",
      " [   0    0    0 ...    0    0 3078]\n",
      " [   0    0    0 ...    0    0 3869]\n",
      " ...\n",
      " [   0    0    0 ...    0    0 4929]\n",
      " [   0    0    0 ...    0    0 4929]\n",
      " [   0    0    0 ...    0    0 4929]]\n"
     ]
    }
   ],
   "source": [
    "sent_length=10\n",
    "embedded_docs=pad_sequences(onehot_repr,padding='pre',maxlen=sent_length)\n",
    "print(embedded_docs)"
   ]
  },
  {
   "cell_type": "code",
   "execution_count": 28,
   "id": "0a14c158",
   "metadata": {},
   "outputs": [
    {
     "data": {
      "text/plain": [
       "(312, (312,))"
      ]
     },
     "execution_count": 28,
     "metadata": {},
     "output_type": "execute_result"
    }
   ],
   "source": [
    "len(embedded_docs),y.shape"
   ]
  },
  {
   "cell_type": "code",
   "execution_count": 29,
   "id": "4d99d951",
   "metadata": {},
   "outputs": [],
   "source": [
    "import numpy as np\n",
    "X_final=np.array(embedded_docs)\n",
    "y_final=np.array(y)"
   ]
  },
  {
   "cell_type": "code",
   "execution_count": 30,
   "id": "29a9d70e",
   "metadata": {},
   "outputs": [
    {
     "data": {
      "text/plain": [
       "(312, 10)"
      ]
     },
     "execution_count": 30,
     "metadata": {},
     "output_type": "execute_result"
    }
   ],
   "source": [
    "X_final.shape"
   ]
  },
  {
   "cell_type": "code",
   "execution_count": 31,
   "id": "7bc959ec",
   "metadata": {},
   "outputs": [
    {
     "data": {
      "text/plain": [
       "(312,)"
      ]
     },
     "execution_count": 31,
     "metadata": {},
     "output_type": "execute_result"
    }
   ],
   "source": [
    "y_final.shape"
   ]
  },
  {
   "cell_type": "code",
   "execution_count": 32,
   "id": "49e0e640",
   "metadata": {},
   "outputs": [],
   "source": [
    "from sklearn.model_selection import train_test_split\n",
    "x_train,x_test,y_train,y_test = train_test_split(X_final,y_final,test_size=0.3,random_state=42)"
   ]
  },
  {
   "cell_type": "code",
   "execution_count": 33,
   "id": "ed3ea4df",
   "metadata": {},
   "outputs": [
    {
     "name": "stdout",
     "output_type": "stream",
     "text": [
      "Model: \"sequential\"\n",
      "_________________________________________________________________\n",
      " Layer (type)                Output Shape              Param #   \n",
      "=================================================================\n",
      " embedding (Embedding)       (None, 10, 60)            300000    \n",
      "                                                                 \n",
      " bidirectional (Bidirectiona  (None, 200)              128800    \n",
      " l)                                                              \n",
      "                                                                 \n",
      " dropout (Dropout)           (None, 200)               0         \n",
      "                                                                 \n",
      " dense (Dense)               (None, 1)                 201       \n",
      "                                                                 \n",
      "=================================================================\n",
      "Total params: 429,001\n",
      "Trainable params: 429,001\n",
      "Non-trainable params: 0\n",
      "_________________________________________________________________\n",
      "None\n"
     ]
    }
   ],
   "source": [
    "embedding_vector_features=60\n",
    "model1=Sequential()\n",
    "model1.add(Embedding(voc_size,embedding_vector_features,input_length=sent_length))\n",
    "model1.add(Bidirectional(LSTM(100)))\n",
    "model1.add(Dropout(0.1))\n",
    "model1.add(Dense(1,activation='sigmoid'))\n",
    "model1.compile(loss='binary_crossentropy',optimizer='adam',metrics=['accuracy'])\n",
    "print(model1.summary())"
   ]
  },
  {
   "cell_type": "code",
   "execution_count": 34,
   "id": "a07845b9",
   "metadata": {},
   "outputs": [
    {
     "data": {
      "text/plain": [
       "(312, (312,))"
      ]
     },
     "execution_count": 34,
     "metadata": {},
     "output_type": "execute_result"
    }
   ],
   "source": [
    "len(embedded_docs),y.shape"
   ]
  },
  {
   "cell_type": "code",
   "execution_count": 35,
   "id": "35c607da",
   "metadata": {},
   "outputs": [],
   "source": [
    " \n",
    "import numpy as np\n",
    "X_final=np.array(embedded_docs)\n",
    "y_final=np.array(y)"
   ]
  },
  {
   "cell_type": "code",
   "execution_count": 36,
   "id": "8769fbe7",
   "metadata": {},
   "outputs": [
    {
     "data": {
      "text/plain": [
       "((312, 10), (312,))"
      ]
     },
     "execution_count": 36,
     "metadata": {},
     "output_type": "execute_result"
    }
   ],
   "source": [
    "X_final.shape,y_final.shape"
   ]
  },
  {
   "cell_type": "code",
   "execution_count": 37,
   "id": "e93a4c6e",
   "metadata": {},
   "outputs": [],
   "source": [
    "from sklearn.model_selection import train_test_split\n",
    "X_train, X_test, y_train, y_test = train_test_split(X_final, y_final, test_size=0.33, random_state=42)"
   ]
  },
  {
   "cell_type": "code",
   "execution_count": null,
   "id": "8e1f60ff",
   "metadata": {},
   "outputs": [],
   "source": []
  },
  {
   "cell_type": "code",
   "execution_count": 38,
   "id": "8d0b129f",
   "metadata": {},
   "outputs": [],
   "source": [
    "from tensorflow.keras.utils import plot_model"
   ]
  },
  {
   "cell_type": "code",
   "execution_count": 39,
   "id": "58817abd",
   "metadata": {},
   "outputs": [
    {
     "name": "stdout",
     "output_type": "stream",
     "text": [
      "2.9.0\n"
     ]
    }
   ],
   "source": [
    "print(tf.keras.__version__)"
   ]
  },
  {
   "cell_type": "code",
   "execution_count": 40,
   "id": "6a081afc",
   "metadata": {},
   "outputs": [
    {
     "name": "stdout",
     "output_type": "stream",
     "text": [
      "Epoch 1/15\n",
      "3/3 [==============================] - 5s 547ms/step - loss: 0.6826 - accuracy: 0.6890 - val_loss: 0.6423 - val_accuracy: 0.8252\n",
      "Epoch 2/15\n",
      "3/3 [==============================] - 0s 96ms/step - loss: 0.6308 - accuracy: 0.8325 - val_loss: 0.5870 - val_accuracy: 0.8252\n",
      "Epoch 3/15\n",
      "3/3 [==============================] - 0s 36ms/step - loss: 0.5712 - accuracy: 0.8325 - val_loss: 0.5214 - val_accuracy: 0.8252\n",
      "Epoch 4/15\n",
      "3/3 [==============================] - 0s 44ms/step - loss: 0.5046 - accuracy: 0.8325 - val_loss: 0.4667 - val_accuracy: 0.8252\n",
      "Epoch 5/15\n",
      "3/3 [==============================] - 0s 103ms/step - loss: 0.4547 - accuracy: 0.8325 - val_loss: 0.4863 - val_accuracy: 0.8252\n",
      "Epoch 6/15\n",
      "3/3 [==============================] - 0s 43ms/step - loss: 0.4771 - accuracy: 0.8325 - val_loss: 0.4911 - val_accuracy: 0.8252\n",
      "Epoch 7/15\n",
      "3/3 [==============================] - 0s 47ms/step - loss: 0.4672 - accuracy: 0.8325 - val_loss: 0.4609 - val_accuracy: 0.8252\n",
      "Epoch 8/15\n",
      "3/3 [==============================] - 0s 39ms/step - loss: 0.4452 - accuracy: 0.8325 - val_loss: 0.4582 - val_accuracy: 0.8252\n",
      "Epoch 9/15\n",
      "3/3 [==============================] - 0s 50ms/step - loss: 0.4468 - accuracy: 0.8325 - val_loss: 0.4617 - val_accuracy: 0.8252\n",
      "Epoch 10/15\n",
      "3/3 [==============================] - 0s 50ms/step - loss: 0.4503 - accuracy: 0.8325 - val_loss: 0.4595 - val_accuracy: 0.8252\n",
      "Epoch 11/15\n",
      "3/3 [==============================] - 0s 52ms/step - loss: 0.4461 - accuracy: 0.8325 - val_loss: 0.4540 - val_accuracy: 0.8252\n",
      "Epoch 12/15\n",
      "3/3 [==============================] - 0s 65ms/step - loss: 0.4420 - accuracy: 0.8325 - val_loss: 0.4506 - val_accuracy: 0.8252\n",
      "Epoch 13/15\n",
      "3/3 [==============================] - 0s 48ms/step - loss: 0.4377 - accuracy: 0.8325 - val_loss: 0.4483 - val_accuracy: 0.8252\n",
      "Epoch 14/15\n",
      "3/3 [==============================] - 0s 117ms/step - loss: 0.4330 - accuracy: 0.8325 - val_loss: 0.4455 - val_accuracy: 0.8252\n",
      "Epoch 15/15\n",
      "3/3 [==============================] - 0s 43ms/step - loss: 0.4298 - accuracy: 0.8325 - val_loss: 0.4424 - val_accuracy: 0.8252\n"
     ]
    },
    {
     "data": {
      "text/plain": [
       "<keras.callbacks.History at 0x21c4453bc40>"
      ]
     },
     "execution_count": 40,
     "metadata": {},
     "output_type": "execute_result"
    }
   ],
   "source": [
    "model1.fit(X_train,y_train,validation_data = (X_test,y_test),epochs=15,batch_size=100)"
   ]
  },
  {
   "cell_type": "code",
   "execution_count": 41,
   "id": "ee87e753",
   "metadata": {},
   "outputs": [
    {
     "name": "stdout",
     "output_type": "stream",
     "text": [
      "4/4 [==============================] - 1s 7ms/step\n"
     ]
    }
   ],
   "source": [
    "pred = (model1.predict(X_test) > 0.5).astype(\"int32\")"
   ]
  },
  {
   "cell_type": "code",
   "execution_count": 42,
   "id": "d1ff9fc9",
   "metadata": {},
   "outputs": [
    {
     "name": "stdout",
     "output_type": "stream",
     "text": [
      "4/4 [==============================] - 0s 6ms/step - loss: 0.4424 - accuracy: 0.8252\n"
     ]
    }
   ],
   "source": [
    "loss, acc = model1.evaluate(X_test, y_test)"
   ]
  },
  {
   "cell_type": "code",
   "execution_count": 43,
   "id": "6ea6266f",
   "metadata": {},
   "outputs": [
    {
     "name": "stdout",
     "output_type": "stream",
     "text": [
      "Accuracy on unseen data is: 83.0 %\n",
      "Loss on unseen data is: 44.0 %\n"
     ]
    }
   ],
   "source": [
    "acc = np.round(acc, 2) * 100 \n",
    "loss = np.round(loss, 2) * 100\n",
    "\n",
    "print(f\"Accuracy on unseen data is: { acc } %\")\n",
    "print(f'Loss on unseen data is: { loss } %')"
   ]
  },
  {
   "cell_type": "code",
   "execution_count": 44,
   "id": "f016b548",
   "metadata": {},
   "outputs": [],
   "source": [
    "from sklearn.metrics import confusion_matrix"
   ]
  },
  {
   "cell_type": "code",
   "execution_count": 45,
   "id": "ab21d7ad",
   "metadata": {},
   "outputs": [
    {
     "data": {
      "text/plain": [
       "array([[ 0, 18],\n",
       "       [ 0, 85]], dtype=int64)"
      ]
     },
     "execution_count": 45,
     "metadata": {},
     "output_type": "execute_result"
    }
   ],
   "source": [
    "confusion_matrix(y_test,pred)"
   ]
  },
  {
   "cell_type": "code",
   "execution_count": 46,
   "id": "993fffdc",
   "metadata": {},
   "outputs": [
    {
     "data": {
      "text/plain": [
       "0.8252427184466019"
      ]
     },
     "execution_count": 46,
     "metadata": {},
     "output_type": "execute_result"
    }
   ],
   "source": [
    "from sklearn.metrics import accuracy_score\n",
    "accuracy_score(y_test,pred)"
   ]
  },
  {
   "cell_type": "code",
   "execution_count": 47,
   "id": "8e0b5b91",
   "metadata": {},
   "outputs": [
    {
     "name": "stdout",
     "output_type": "stream",
     "text": [
      "              precision    recall  f1-score   support\n",
      "\n",
      "           0       0.00      0.00      0.00        18\n",
      "           1       0.83      1.00      0.90        85\n",
      "\n",
      "    accuracy                           0.83       103\n",
      "   macro avg       0.41      0.50      0.45       103\n",
      "weighted avg       0.68      0.83      0.75       103\n",
      "\n"
     ]
    },
    {
     "name": "stderr",
     "output_type": "stream",
     "text": [
      "C:\\Users\\rejee\\anaconda3\\lib\\site-packages\\sklearn\\metrics\\_classification.py:1248: UndefinedMetricWarning: Precision and F-score are ill-defined and being set to 0.0 in labels with no predicted samples. Use `zero_division` parameter to control this behavior.\n",
      "  _warn_prf(average, modifier, msg_start, len(result))\n",
      "C:\\Users\\rejee\\anaconda3\\lib\\site-packages\\sklearn\\metrics\\_classification.py:1248: UndefinedMetricWarning: Precision and F-score are ill-defined and being set to 0.0 in labels with no predicted samples. Use `zero_division` parameter to control this behavior.\n",
      "  _warn_prf(average, modifier, msg_start, len(result))\n",
      "C:\\Users\\rejee\\anaconda3\\lib\\site-packages\\sklearn\\metrics\\_classification.py:1248: UndefinedMetricWarning: Precision and F-score are ill-defined and being set to 0.0 in labels with no predicted samples. Use `zero_division` parameter to control this behavior.\n",
      "  _warn_prf(average, modifier, msg_start, len(result))\n"
     ]
    }
   ],
   "source": [
    "from sklearn.metrics import classification_report\n",
    "print(classification_report(y_test,pred))"
   ]
  },
  {
   "cell_type": "code",
   "execution_count": null,
   "id": "c713126b",
   "metadata": {},
   "outputs": [],
   "source": []
  }
 ],
 "metadata": {
  "kernelspec": {
   "display_name": "Python 3 (ipykernel)",
   "language": "python",
   "name": "python3"
  },
  "language_info": {
   "codemirror_mode": {
    "name": "ipython",
    "version": 3
   },
   "file_extension": ".py",
   "mimetype": "text/x-python",
   "name": "python",
   "nbconvert_exporter": "python",
   "pygments_lexer": "ipython3",
   "version": "3.9.7"
  }
 },
 "nbformat": 4,
 "nbformat_minor": 5
}
