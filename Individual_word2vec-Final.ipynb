{
 "cells": [
  {
   "cell_type": "code",
   "execution_count": 1,
   "id": "f47f68e1",
   "metadata": {},
   "outputs": [],
   "source": [
    "import nltk\n",
    "from nltk.tokenize import word_tokenize"
   ]
  },
  {
   "cell_type": "code",
   "execution_count": 2,
   "id": "1ad71dfa",
   "metadata": {},
   "outputs": [],
   "source": [
    "import numpy as np\n",
    "import pandas as pd\n",
    "from sklearn.metrics import accuracy_score"
   ]
  },
  {
   "cell_type": "code",
   "execution_count": 3,
   "id": "c11959de",
   "metadata": {},
   "outputs": [],
   "source": [
    "df=pd.read_csv(r'C:\\Users\\rejee\\Desktop\\Agitation.csv')"
   ]
  },
  {
   "cell_type": "code",
   "execution_count": 4,
   "id": "05913ae4",
   "metadata": {},
   "outputs": [
    {
     "data": {
      "text/html": [
       "<div>\n",
       "<style scoped>\n",
       "    .dataframe tbody tr th:only-of-type {\n",
       "        vertical-align: middle;\n",
       "    }\n",
       "\n",
       "    .dataframe tbody tr th {\n",
       "        vertical-align: top;\n",
       "    }\n",
       "\n",
       "    .dataframe thead th {\n",
       "        text-align: right;\n",
       "    }\n",
       "</style>\n",
       "<table border=\"1\" class=\"dataframe\">\n",
       "  <thead>\n",
       "    <tr style=\"text-align: right;\">\n",
       "      <th></th>\n",
       "      <th>timestamp (ET)</th>\n",
       "      <th>agitimestamp (ET)</th>\n",
       "      <th>Location</th>\n",
       "      <th>level</th>\n",
       "      <th>Observation</th>\n",
       "      <th>Behaviour</th>\n",
       "    </tr>\n",
       "  </thead>\n",
       "  <tbody>\n",
       "    <tr>\n",
       "      <th>0</th>\n",
       "      <td>12/10/2016 21:02</td>\n",
       "      <td>12/10/2016 21:00</td>\n",
       "      <td>Kitchen</td>\n",
       "      <td>5</td>\n",
       "      <td>Withdrawn</td>\n",
       "      <td>Normal</td>\n",
       "    </tr>\n",
       "    <tr>\n",
       "      <th>1</th>\n",
       "      <td>12/15/2016 3:22</td>\n",
       "      <td>12/15/2016 3:21</td>\n",
       "      <td>Kitchen</td>\n",
       "      <td>3</td>\n",
       "      <td>Vocal1, Withdrawn</td>\n",
       "      <td>Normal</td>\n",
       "    </tr>\n",
       "    <tr>\n",
       "      <th>2</th>\n",
       "      <td>12/15/2016 19:14</td>\n",
       "      <td>12/16/2016 2:20</td>\n",
       "      <td>Other</td>\n",
       "      <td>3</td>\n",
       "      <td>Withdrawn</td>\n",
       "      <td>Normal</td>\n",
       "    </tr>\n",
       "    <tr>\n",
       "      <th>3</th>\n",
       "      <td>12/19/2016 1:57</td>\n",
       "      <td>12/19/2016 1:55</td>\n",
       "      <td>Other</td>\n",
       "      <td>4</td>\n",
       "      <td>Withdrawn</td>\n",
       "      <td>Normal</td>\n",
       "    </tr>\n",
       "    <tr>\n",
       "      <th>4</th>\n",
       "      <td>12/28/2016 20:36</td>\n",
       "      <td>12/28/2016 19:00</td>\n",
       "      <td>Other</td>\n",
       "      <td>4</td>\n",
       "      <td>Vocal2, Withdrawn</td>\n",
       "      <td>Normal</td>\n",
       "    </tr>\n",
       "    <tr>\n",
       "      <th>...</th>\n",
       "      <td>...</td>\n",
       "      <td>...</td>\n",
       "      <td>...</td>\n",
       "      <td>...</td>\n",
       "      <td>...</td>\n",
       "      <td>...</td>\n",
       "    </tr>\n",
       "    <tr>\n",
       "      <th>307</th>\n",
       "      <td>7/29/2017 10:42</td>\n",
       "      <td>7/29/2017 10:42</td>\n",
       "      <td>Kitchen</td>\n",
       "      <td>1</td>\n",
       "      <td>Repetition;</td>\n",
       "      <td>Normal</td>\n",
       "    </tr>\n",
       "    <tr>\n",
       "      <th>308</th>\n",
       "      <td>08/03/2017 12:45</td>\n",
       "      <td>08/03/2017 12:44</td>\n",
       "      <td>Kitchen</td>\n",
       "      <td>1</td>\n",
       "      <td>Repetition;</td>\n",
       "      <td>Normal</td>\n",
       "    </tr>\n",
       "    <tr>\n",
       "      <th>309</th>\n",
       "      <td>08/04/2017 22:13</td>\n",
       "      <td>08/04/2017 22:13</td>\n",
       "      <td>Kitchen</td>\n",
       "      <td>1</td>\n",
       "      <td>Repetition;</td>\n",
       "      <td>Normal</td>\n",
       "    </tr>\n",
       "    <tr>\n",
       "      <th>310</th>\n",
       "      <td>08/07/2017 11:44</td>\n",
       "      <td>08/07/2017 11:44</td>\n",
       "      <td>Kitchen</td>\n",
       "      <td>1</td>\n",
       "      <td>Repetition;</td>\n",
       "      <td>Normal</td>\n",
       "    </tr>\n",
       "    <tr>\n",
       "      <th>311</th>\n",
       "      <td>08/08/2017 19:15</td>\n",
       "      <td>08/08/2017 19:15</td>\n",
       "      <td>Kitchen</td>\n",
       "      <td>1</td>\n",
       "      <td>Repetition;</td>\n",
       "      <td>Normal</td>\n",
       "    </tr>\n",
       "  </tbody>\n",
       "</table>\n",
       "<p>312 rows × 6 columns</p>\n",
       "</div>"
      ],
      "text/plain": [
       "       timestamp (ET) agitimestamp (ET) Location  level        Observation  \\\n",
       "0    12/10/2016 21:02  12/10/2016 21:00  Kitchen      5          Withdrawn   \n",
       "1     12/15/2016 3:22   12/15/2016 3:21  Kitchen      3  Vocal1, Withdrawn   \n",
       "2    12/15/2016 19:14   12/16/2016 2:20    Other      3          Withdrawn   \n",
       "3     12/19/2016 1:57   12/19/2016 1:55    Other      4          Withdrawn   \n",
       "4    12/28/2016 20:36  12/28/2016 19:00    Other      4  Vocal2, Withdrawn   \n",
       "..                ...               ...      ...    ...                ...   \n",
       "307   7/29/2017 10:42   7/29/2017 10:42  Kitchen      1        Repetition;   \n",
       "308  08/03/2017 12:45  08/03/2017 12:44  Kitchen      1        Repetition;   \n",
       "309  08/04/2017 22:13  08/04/2017 22:13  Kitchen      1        Repetition;   \n",
       "310  08/07/2017 11:44  08/07/2017 11:44  Kitchen      1        Repetition;   \n",
       "311  08/08/2017 19:15  08/08/2017 19:15  Kitchen      1        Repetition;   \n",
       "\n",
       "    Behaviour  \n",
       "0      Normal  \n",
       "1      Normal  \n",
       "2      Normal  \n",
       "3      Normal  \n",
       "4      Normal  \n",
       "..        ...  \n",
       "307    Normal  \n",
       "308    Normal  \n",
       "309    Normal  \n",
       "310    Normal  \n",
       "311    Normal  \n",
       "\n",
       "[312 rows x 6 columns]"
      ]
     },
     "execution_count": 4,
     "metadata": {},
     "output_type": "execute_result"
    }
   ],
   "source": [
    "df"
   ]
  },
  {
   "cell_type": "code",
   "execution_count": 5,
   "id": "1cf00add",
   "metadata": {},
   "outputs": [],
   "source": [
    "observation_tokens = [word_tokenize(Observation) for Observation in df['Observation']]"
   ]
  },
  {
   "cell_type": "code",
   "execution_count": 6,
   "id": "70c3b45a",
   "metadata": {},
   "outputs": [],
   "source": [
    "behaviour_tokens = [word_tokenize(Behaviour) for Behaviour in df['Behaviour']]"
   ]
  },
  {
   "cell_type": "code",
   "execution_count": 7,
   "id": "13ae7178",
   "metadata": {},
   "outputs": [],
   "source": [
    "from gensim.models import Word2Vec"
   ]
  },
  {
   "cell_type": "code",
   "execution_count": 8,
   "id": "8d0f839d",
   "metadata": {},
   "outputs": [],
   "source": [
    "# Set the parameters for the word2vec model\n",
    "num_features = 100    # Dimensionality of the word vectors\n",
    "min_word_count = 3    # Minimum number of occurrences of a word to be included in the vocabulary\n",
    "num_workers = 4       # Number of worker threads to train the model\n",
    "context_size = 5      # Context window size\n",
    "downsampling = 1e-3   # Downsample setting for frequent words"
   ]
  },
  {
   "cell_type": "code",
   "execution_count": null,
   "id": "36b2f921",
   "metadata": {},
   "outputs": [],
   "source": []
  },
  {
   "cell_type": "code",
   "execution_count": null,
   "id": "fccb3dd2",
   "metadata": {},
   "outputs": [],
   "source": []
  },
  {
   "cell_type": "code",
   "execution_count": 9,
   "id": "68f6dcb4",
   "metadata": {},
   "outputs": [],
   "source": [
    "# Initialize the word2vec model\n",
    "model = Word2Vec(observation_tokens + behaviour_tokens, \n",
    "                 vector_size=num_features, \n",
    "                 min_count=min_word_count, \n",
    "                 workers=num_workers, \n",
    "                 window=context_size, \n",
    "                 sample=downsampling)"
   ]
  },
  {
   "cell_type": "code",
   "execution_count": 10,
   "id": "c51721c7",
   "metadata": {},
   "outputs": [
    {
     "data": {
      "text/plain": [
       "(1777, 15910)"
      ]
     },
     "execution_count": 10,
     "metadata": {},
     "output_type": "execute_result"
    }
   ],
   "source": [
    "# Train the model\n",
    "model.train(observation_tokens + behaviour_tokens, total_examples=len(observation_tokens + behaviour_tokens), epochs=10)\n"
   ]
  },
  {
   "cell_type": "code",
   "execution_count": 11,
   "id": "f7f7fcc9",
   "metadata": {},
   "outputs": [
    {
     "data": {
      "text/plain": [
       "<gensim.models.keyedvectors.KeyedVectors at 0x207b23a8850>"
      ]
     },
     "execution_count": 11,
     "metadata": {},
     "output_type": "execute_result"
    }
   ],
   "source": [
    "# Access the word vectors\n",
    "word_vectors = model.wv\n",
    "word_vectors"
   ]
  },
  {
   "cell_type": "code",
   "execution_count": 12,
   "id": "eb6ff0ce",
   "metadata": {},
   "outputs": [],
   "source": [
    "# Retrieve the vector for the word \"Withdrawn\"\n",
    "cat_vector = word_vectors['Withdrawn']"
   ]
  },
  {
   "cell_type": "code",
   "execution_count": 13,
   "id": "9c91102f",
   "metadata": {},
   "outputs": [
    {
     "name": "stdout",
     "output_type": "stream",
     "text": [
      "[(';', 0.9412829279899597), ('Touching', 0.9295515418052673), ('Vocal1', 0.923416256904602), ('Ambulation', 0.9084556102752686), ('Repetition', 0.8842250108718872), ('Frustration', 0.8840225338935852), ('Communication', 0.8639964461326599), ('Clothing', 0.8394249677658081), (',', 0.7866911888122559), ('Lost', 0.702501654624939)]\n"
     ]
    }
   ],
   "source": [
    "# Find the words that are most similar to \"Withdawn\"\n",
    "similar_words = word_vectors.most_similar('Withdrawn')\n",
    "print(similar_words)"
   ]
  },
  {
   "cell_type": "code",
   "execution_count": 15,
   "id": "5706ea3f",
   "metadata": {},
   "outputs": [
    {
     "data": {
      "text/plain": [
       "0.92341626"
      ]
     },
     "execution_count": 15,
     "metadata": {},
     "output_type": "execute_result"
    }
   ],
   "source": [
    "model.wv.similarity(w1=\"Withdrawn\",w2=\"Vocal1\")"
   ]
  },
  {
   "cell_type": "code",
   "execution_count": 17,
   "id": "7c880894",
   "metadata": {},
   "outputs": [
    {
     "data": {
      "text/plain": [
       "0.85773987"
      ]
     },
     "execution_count": 17,
     "metadata": {},
     "output_type": "execute_result"
    }
   ],
   "source": [
    "model.wv.similarity(w1=\"Ambulation\", w2=\"Repetition\")"
   ]
  },
  {
   "cell_type": "code",
   "execution_count": null,
   "id": "2774ef1d",
   "metadata": {},
   "outputs": [],
   "source": []
  },
  {
   "cell_type": "code",
   "execution_count": null,
   "id": "57636ff1",
   "metadata": {},
   "outputs": [],
   "source": []
  }
 ],
 "metadata": {
  "kernelspec": {
   "display_name": "Python 3 (ipykernel)",
   "language": "python",
   "name": "python3"
  },
  "language_info": {
   "codemirror_mode": {
    "name": "ipython",
    "version": 3
   },
   "file_extension": ".py",
   "mimetype": "text/x-python",
   "name": "python",
   "nbconvert_exporter": "python",
   "pygments_lexer": "ipython3",
   "version": "3.9.7"
  }
 },
 "nbformat": 4,
 "nbformat_minor": 5
}
